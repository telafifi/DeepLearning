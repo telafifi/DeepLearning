{
 "cells": [
  {
   "cell_type": "code",
   "execution_count": 7,
   "metadata": {},
   "outputs": [],
   "source": [
    "import torch\n",
    "import torch.distributions as dist"
   ]
  },
  {
   "cell_type": "code",
   "execution_count": 11,
   "metadata": {},
   "outputs": [
    {
     "name": "stdout",
     "output_type": "stream",
     "text": [
      "tensor([1.])\n"
     ]
    }
   ],
   "source": [
    "## Let's create a Bernoulli distribution\n",
    "bernoulli = dist.Bernoulli(torch.tensor([0.5]))\n",
    "\n",
    "## Sample from the distribution\n",
    "print(bernoulli.sample())"
   ]
  },
  {
   "cell_type": "code",
   "execution_count": 15,
   "metadata": {},
   "outputs": [
    {
     "name": "stdout",
     "output_type": "stream",
     "text": [
      "Mean: 0.4819999933242798\n",
      "Variance: 0.24992592632770538\n"
     ]
    }
   ],
   "source": [
    "# Generate 1000 samples\n",
    "samples = [bernoulli.sample() for _ in range(1000)]\n",
    "\n",
    "# Extract the mean and the variance of the tensor\n",
    "print(f\"Mean: {torch.mean(torch.stack(samples))}\")\n",
    "print(f\"Variance: {torch.var(torch.stack(samples))}\")\n",
    "\n",
    "## These samples are not the same as the Bernoulli distribution - the ideal has a mean of 0.5 and a variance of 0.25"
   ]
  },
  {
   "cell_type": "code",
   "execution_count": 19,
   "metadata": {},
   "outputs": [
    {
     "name": "stdout",
     "output_type": "stream",
     "text": [
      "tensor([0.9028])\n"
     ]
    }
   ],
   "source": [
    "## Let's create a normal distribution with mean 0 and variance 1\n",
    "normal = dist.Normal(torch.tensor([0.0]), torch.tensor([1.0]))\n",
    "print(normal.sample())"
   ]
  },
  {
   "cell_type": "code",
   "execution_count": 24,
   "metadata": {},
   "outputs": [
    {
     "name": "stdout",
     "output_type": "stream",
     "text": [
      "Mean: -0.001110321027226746\n",
      "Variance: 0.9583104848861694\n"
     ]
    }
   ],
   "source": [
    "samples = [normal.sample() for _ in range(1000)]\n",
    "print(f\"Mean: {torch.mean(torch.stack(samples))}\")\n",
    "print(f\"Variance: {torch.var(torch.stack(samples))}\")\n",
    "\n",
    "## Again showing that the values are slightly biased."
   ]
  },
  {
   "cell_type": "markdown",
   "metadata": {},
   "source": [
    "This example shows that we only get to observe samples of a distribution, the samples will never actually cover the actual distribution."
   ]
  }
 ],
 "metadata": {
  "kernelspec": {
   "display_name": ".venv",
   "language": "python",
   "name": "python3"
  },
  "language_info": {
   "codemirror_mode": {
    "name": "ipython",
    "version": 3
   },
   "file_extension": ".py",
   "mimetype": "text/x-python",
   "name": "python",
   "nbconvert_exporter": "python",
   "pygments_lexer": "ipython3",
   "version": "3.10.4"
  }
 },
 "nbformat": 4,
 "nbformat_minor": 2
}
