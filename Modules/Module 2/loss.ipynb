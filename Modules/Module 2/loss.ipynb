{
 "cells": [
  {
   "cell_type": "code",
   "execution_count": 1,
   "metadata": {},
   "outputs": [],
   "source": [
    "import torch"
   ]
  },
  {
   "cell_type": "code",
   "execution_count": 2,
   "metadata": {},
   "outputs": [],
   "source": [
    "# define linear model\n",
    "model = torch.nn.Linear(10, 1)"
   ]
  },
  {
   "cell_type": "code",
   "execution_count": 4,
   "metadata": {},
   "outputs": [
    {
     "name": "stdout",
     "output_type": "stream",
     "text": [
      "x=tensor([[-5.6965e-01,  9.6438e-01, -3.4630e-01,  6.4887e-01, -7.1544e-02,\n",
      "         -7.0036e-01,  5.4114e-01,  4.9935e-01, -1.7516e+00,  2.8906e-01],\n",
      "        [ 2.8334e-01,  3.3752e-01, -6.9480e-01,  1.2078e+00, -3.2144e-01,\n",
      "         -6.0109e-01, -4.1943e-01,  2.5843e-01,  1.2566e-01, -2.7729e+00],\n",
      "        [-2.9198e-01, -2.6308e-01,  2.0695e+00, -2.0523e-01, -6.1803e-01,\n",
      "         -6.6829e-01,  3.6443e-01, -3.6826e-02,  1.2324e+00, -1.2545e-03],\n",
      "        [ 9.2405e-02,  1.6785e+00, -6.9764e-01, -1.4458e+00, -9.0353e-01,\n",
      "          1.9934e+00,  2.0998e-01,  4.6773e-01,  1.9550e-01, -1.6810e+00],\n",
      "        [-8.0212e-01, -5.5048e-01,  4.0956e-01, -2.0166e-01,  1.5393e+00,\n",
      "          1.5641e+00,  7.9732e-01, -9.1312e-01,  6.2609e-01, -7.0846e-01],\n",
      "        [ 6.7342e-01,  4.3496e-01, -3.4339e-01,  1.1129e-01, -8.2448e-01,\n",
      "          1.3478e-01, -7.7379e-01,  1.3177e+00,  5.4951e-01,  1.3035e+00],\n",
      "        [-6.1648e-01, -1.3671e-01, -2.3454e-01, -4.7073e-02,  9.2930e-01,\n",
      "         -4.2690e-01, -2.8138e-01,  3.0472e-01,  1.5636e+00, -1.3736e+00],\n",
      "        [ 1.4993e+00,  6.5075e-01,  3.0602e-01,  8.0559e-02, -1.5059e+00,\n",
      "         -4.0174e-01,  1.2184e+00, -1.7424e+00, -3.1586e-02, -4.3964e-01],\n",
      "        [-5.1203e-02, -3.1299e-01,  9.3813e-01,  9.7555e-01, -3.7134e-01,\n",
      "         -1.9492e+00,  2.8712e-01,  8.3916e-01,  5.1440e-01, -1.9349e-02],\n",
      "        [-1.4260e+00, -6.5244e-01, -1.6242e-01,  1.7165e-01, -3.8388e-01,\n",
      "         -4.2454e-01, -1.7009e+00, -1.3056e+00, -2.1481e+00, -2.1271e+00],\n",
      "        [-4.1930e-01, -7.2450e-02, -2.1088e-01,  3.1903e-01, -1.1809e+00,\n",
      "          1.6573e+00,  1.1406e+00,  7.2978e-01,  9.1113e-01,  2.3874e+00],\n",
      "        [ 8.2011e-01,  1.6423e-01, -2.0033e+00,  9.7327e-01, -4.8099e-01,\n",
      "         -2.8356e+00,  1.8064e+00, -1.1495e+00, -2.0163e-01, -4.2618e-01],\n",
      "        [ 3.6538e-01, -1.9841e-01, -1.3474e-01, -3.1041e-01, -5.5641e-03,\n",
      "          6.1865e-02,  1.4069e+00,  2.0011e-01, -1.7182e+00,  4.6593e-01],\n",
      "        [ 4.8698e-02, -1.3209e+00,  2.6138e+00,  1.6113e-01,  1.0004e+00,\n",
      "          6.0969e-01,  8.0548e-01, -6.8872e-01, -1.4008e+00, -6.8976e-01],\n",
      "        [-5.1023e-02,  2.4027e+00, -1.6759e-01,  4.5656e-01,  9.3967e-01,\n",
      "         -7.5469e-01, -7.6243e-01,  1.0968e+00, -1.3578e+00,  1.5929e+00],\n",
      "        [ 1.4016e+00,  7.5359e-01, -1.3139e+00, -1.5287e-01,  1.7113e+00,\n",
      "          1.4985e-01, -4.7763e-03,  1.5609e-01, -5.0152e-01, -3.4814e-01],\n",
      "        [ 1.0164e-01, -1.1808e-01, -9.8274e-01, -1.0891e+00,  2.4244e-01,\n",
      "          5.6068e-01, -3.6786e-01, -3.6741e-01,  9.4258e-01,  5.7411e-01],\n",
      "        [-8.1409e-01, -9.8077e-01, -4.2556e-01,  6.9297e-01,  1.1490e-01,\n",
      "          1.5259e+00, -1.5123e+00, -1.9298e+00, -6.7565e-01, -8.8013e-01],\n",
      "        [ 7.5566e-01,  1.0919e+00, -5.6118e-01, -5.0435e-01,  1.5325e+00,\n",
      "          5.6124e-01, -4.7638e-02,  7.7800e-01,  5.3075e-01, -1.5985e+00],\n",
      "        [-1.1067e+00, -2.3211e+00,  1.6726e+00,  8.1343e-03,  1.8677e-01,\n",
      "         -6.5136e-01,  9.3837e-01, -3.7512e-01, -2.6041e-01, -1.1528e+00]]) y=tensor([[-1.8071],\n",
      "        [ 0.5249],\n",
      "        [-0.7793],\n",
      "        [-0.7274],\n",
      "        [-0.4371],\n",
      "        [ 0.9416],\n",
      "        [-0.4602],\n",
      "        [-1.3588],\n",
      "        [ 0.6914],\n",
      "        [-1.7252],\n",
      "        [ 1.2539],\n",
      "        [-1.3520],\n",
      "        [ 0.3108],\n",
      "        [ 0.4773],\n",
      "        [ 0.4951],\n",
      "        [ 0.6148],\n",
      "        [ 0.0037],\n",
      "        [ 0.0804],\n",
      "        [ 0.3518],\n",
      "        [ 0.3662]])\n"
     ]
    }
   ],
   "source": [
    "# Create fake inputs and outputs\n",
    "x = torch.randn(20, 10)\n",
    "y = torch.randn(20, 1)\n",
    "print(f'{x=} {y=}')"
   ]
  },
  {
   "cell_type": "code",
   "execution_count": 6,
   "metadata": {},
   "outputs": [
    {
     "name": "stdout",
     "output_type": "stream",
     "text": [
      "tensor([[ 0.6655],\n",
      "        [ 0.0762],\n",
      "        [-0.4832],\n",
      "        [-0.0106],\n",
      "        [-1.1581],\n",
      "        [ 1.0625],\n",
      "        [-0.4928],\n",
      "        [ 0.5843],\n",
      "        [ 0.2211],\n",
      "        [ 0.1339],\n",
      "        [ 0.1773],\n",
      "        [ 1.1826],\n",
      "        [ 0.5905],\n",
      "        [-0.8727],\n",
      "        [ 1.2234],\n",
      "        [ 0.8343],\n",
      "        [ 0.4573],\n",
      "        [-0.2076],\n",
      "        [-0.0214],\n",
      "        [-0.9934]], grad_fn=<AddmmBackward0>)\n"
     ]
    }
   ],
   "source": [
    "# prediction\n",
    "pred_y = model(x)\n",
    "print(pred_y)"
   ]
  },
  {
   "cell_type": "code",
   "execution_count": 8,
   "metadata": {},
   "outputs": [
    {
     "name": "stdout",
     "output_type": "stream",
     "text": [
      "tensor(1.3622, grad_fn=<MseLossBackward0>)\n"
     ]
    }
   ],
   "source": [
    "# now we need to compare the expected output with the predicted output\n",
    "# Use the l2 loss in regression\n",
    "# here we are using the built-in mse-loss function\n",
    "loss = torch.nn.functional.mse_loss(pred_y, y)\n",
    "print(loss)"
   ]
  },
  {
   "cell_type": "code",
   "execution_count": 9,
   "metadata": {},
   "outputs": [
    {
     "data": {
      "text/plain": [
       "tensor(1.3622, grad_fn=<MeanBackward0>)"
      ]
     },
     "execution_count": 9,
     "metadata": {},
     "output_type": "execute_result"
    }
   ],
   "source": [
    "# Writing the loss function ourselves\n",
    "def mse_loss(pred_y, y):\n",
    "    return torch.mean((pred_y - y) ** 2)\n",
    "  \n",
    "mse_loss(pred_y, y)"
   ]
  },
  {
   "cell_type": "code",
   "execution_count": 10,
   "metadata": {},
   "outputs": [
    {
     "name": "stdout",
     "output_type": "stream",
     "text": [
      "tensor([[1.],\n",
      "        [1.],\n",
      "        [0.],\n",
      "        [1.],\n",
      "        [1.],\n",
      "        [1.],\n",
      "        [0.],\n",
      "        [1.],\n",
      "        [0.],\n",
      "        [0.],\n",
      "        [0.],\n",
      "        [1.],\n",
      "        [1.],\n",
      "        [0.],\n",
      "        [1.],\n",
      "        [0.],\n",
      "        [0.],\n",
      "        [0.],\n",
      "        [1.],\n",
      "        [0.]])\n"
     ]
    }
   ],
   "source": [
    "# Binary classification\n",
    "# values are random numbers and check if they are greater than 0\n",
    "# we then convert the boolean to float which will give either a 0 or 1\n",
    "y = (torch.randn(20, 1) > 0).float()\n",
    "print(y)"
   ]
  },
  {
   "cell_type": "code",
   "execution_count": 13,
   "metadata": {},
   "outputs": [
    {
     "name": "stdout",
     "output_type": "stream",
     "text": [
      "tensor(0.6163, grad_fn=<BinaryCrossEntropyWithLogitsBackward0>)\n"
     ]
    }
   ],
   "source": [
    "# loss function for binary classification\n",
    "# binary cross entropy with logits will add the sigmoid for us\n",
    "loss = torch.nn.functional.binary_cross_entropy_with_logits(pred_y, y)\n",
    "print(loss)"
   ]
  },
  {
   "cell_type": "code",
   "execution_count": 44,
   "metadata": {},
   "outputs": [
    {
     "name": "stdout",
     "output_type": "stream",
     "text": [
      "tensor([1, 1, 1, 0, 0, 2, 0, 2, 0, 0, 2, 1, 1, 0, 0, 0, 2, 2, 2, 1])\n"
     ]
    }
   ],
   "source": [
    "# Multi-class classification\n",
    "n_classes = 3\n",
    "model = torch.nn.Linear(10, n_classes)\n",
    "\n",
    "y = torch.zeros(20).long()\n",
    "\n",
    "# for every class, we add a random number to y and check if it is greater than 0\n",
    "# This will allow us to have a multi-class classification\n",
    "# The values need to be integers because the loss function for multi-class\n",
    "# classification expects integers\n",
    "for i in range(n_classes - 1):\n",
    "  y += (torch.randn(20) > 0).long()\n",
    "print(y)"
   ]
  },
  {
   "cell_type": "code",
   "execution_count": 46,
   "metadata": {},
   "outputs": [
    {
     "name": "stdout",
     "output_type": "stream",
     "text": [
      "tensor(1.0637, grad_fn=<NllLossBackward0>)\n"
     ]
    }
   ],
   "source": [
    "pred_y = model(x)\n",
    "loss = torch.nn.functional.cross_entropy(pred_y, y)\n",
    "print(loss)"
   ]
  }
 ],
 "metadata": {
  "kernelspec": {
   "display_name": ".venv",
   "language": "python",
   "name": "python3"
  },
  "language_info": {
   "codemirror_mode": {
    "name": "ipython",
    "version": 3
   },
   "file_extension": ".py",
   "mimetype": "text/x-python",
   "name": "python",
   "nbconvert_exporter": "python",
   "pygments_lexer": "ipython3",
   "version": "3.10.4"
  }
 },
 "nbformat": 4,
 "nbformat_minor": 2
}
