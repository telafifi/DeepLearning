{
 "cells": [
  {
   "cell_type": "code",
   "execution_count": 1,
   "metadata": {},
   "outputs": [],
   "source": [
    "import torch"
   ]
  },
  {
   "cell_type": "code",
   "execution_count": 5,
   "metadata": {},
   "outputs": [
    {
     "name": "stdout",
     "output_type": "stream",
     "text": [
      "tensor([0.4577, 0.6337, 0.7402, 0.4093, 0.3120, 0.8809, 0.9714, 0.7267, 0.4113,\n",
      "        0.9406], requires_grad=True)\n",
      "tensor([0.2036, 0.5271, 0.1620, 0.6432, 0.8239, 0.9221, 0.5321, 0.1278, 0.0251,\n",
      "        0.7651])\n"
     ]
    }
   ],
   "source": [
    "x = torch.rand(10, requires_grad=True)\n",
    "print(x)\n",
    "\n",
    "x_no_requires_grad = torch.rand(10)\n",
    "print(x_no_requires_grad)"
   ]
  },
  {
   "cell_type": "code",
   "execution_count": 6,
   "metadata": {},
   "outputs": [
    {
     "data": {
      "text/plain": [
       "tensor(0.3174)"
      ]
     },
     "execution_count": 6,
     "metadata": {},
     "output_type": "execute_result"
    }
   ],
   "source": [
    "(x_no_requires_grad**2).mean()"
   ]
  },
  {
   "cell_type": "code",
   "execution_count": 9,
   "metadata": {},
   "outputs": [
    {
     "name": "stdout",
     "output_type": "stream",
     "text": [
      "tensor(0.4725, grad_fn=<MeanBackward0>)\n"
     ]
    }
   ],
   "source": [
    "# see how this has a grad_fn that allows us to do backpropagation\n",
    "# since we have requires_grad=True and we can compute gradients\n",
    "b = (x**2).mean()\n",
    "\n",
    "print(b)\n",
    "\n",
    "b.backward()"
   ]
  },
  {
   "cell_type": "code",
   "execution_count": 14,
   "metadata": {},
   "outputs": [
    {
     "name": "stdout",
     "output_type": "stream",
     "text": [
      "tensor([0.0915, 0.1267, 0.1480, 0.0819, 0.0624, 0.1762, 0.1943, 0.1453, 0.0823,\n",
      "        0.1881])\n",
      "tensor([0.0915, 0.1267, 0.1480, 0.0819, 0.0624, 0.1762, 0.1943, 0.1453, 0.0823,\n",
      "        0.1881], grad_fn=<DivBackward0>)\n"
     ]
    }
   ],
   "source": [
    "# running the backward function will populate the grad attribute of the tensor\n",
    "print(x.grad)\n",
    "\n",
    "# gradient of the function b derived mathematically\n",
    "mathematical_derivative = 2*x/10\n",
    "print(mathematical_derivative)\n",
    "\n",
    "# note how the two values are the same"
   ]
  },
  {
   "cell_type": "code",
   "execution_count": 26,
   "metadata": {},
   "outputs": [
    {
     "data": {
      "text/plain": [
       "4.0"
      ]
     },
     "execution_count": 26,
     "metadata": {},
     "output_type": "execute_result"
    }
   ],
   "source": [
    "# one million elements\n",
    "x = torch.rand(2 ** 20, requires_grad=True, device='mps')\n",
    "\n",
    "# utilizes 4MB of memory (due to each tensor having a float32 value, which requires 4 bytes per element)\n",
    "torch.mps.current_allocated_memory() / 1024 / 1024\n"
   ]
  },
  {
   "cell_type": "code",
   "execution_count": 27,
   "metadata": {},
   "outputs": [
    {
     "data": {
      "text/plain": [
       "8.0"
      ]
     },
     "execution_count": 27,
     "metadata": {},
     "output_type": "execute_result"
    }
   ],
   "source": [
    "b = torch.relu(x)\n",
    "torch.mps.current_allocated_memory() / 1024 / 1024\n",
    "\n",
    "# adding one additional node to the computation graph made us use 8MB of memory"
   ]
  },
  {
   "cell_type": "code",
   "execution_count": 28,
   "metadata": {},
   "outputs": [
    {
     "data": {
      "text/plain": [
       "404.0"
      ]
     },
     "execution_count": 28,
     "metadata": {},
     "output_type": "execute_result"
    }
   ],
   "source": [
    "# try doing this a bunch of times\n",
    "b = x\n",
    "for _ in range(100):\n",
    "    b = torch.relu(b)\n",
    "torch.mps.current_allocated_memory() / 1024 / 1024  "
   ]
  },
  {
   "cell_type": "code",
   "execution_count": 29,
   "metadata": {},
   "outputs": [
    {
     "data": {
      "text/plain": [
       "12.000244140625"
      ]
     },
     "execution_count": 29,
     "metadata": {},
     "output_type": "execute_result"
    }
   ],
   "source": [
    "# now sum and call backwards\n",
    "b.sum().backward()\n",
    "torch.mps.current_allocated_memory() / 1024 / 1024  \n",
    "\n",
    "# this collapsed the entire computation graph, so all the memory that\n",
    "# was allocated to compute gradients has now collapsed and deallocated\n",
    "\n",
    "# this is why we cannot call backwards on a graph twice, since the memory allocated is now freed"
   ]
  },
  {
   "cell_type": "code",
   "execution_count": 31,
   "metadata": {},
   "outputs": [
    {
     "data": {
      "text/plain": [
       "tensor([1., 1., 1.,  ..., 1., 1., 1.], device='mps:0')"
      ]
     },
     "execution_count": 31,
     "metadata": {},
     "output_type": "execute_result"
    }
   ],
   "source": [
    "x.grad"
   ]
  }
 ],
 "metadata": {
  "kernelspec": {
   "display_name": ".venv",
   "language": "python",
   "name": "python3"
  },
  "language_info": {
   "codemirror_mode": {
    "name": "ipython",
    "version": 3
   },
   "file_extension": ".py",
   "mimetype": "text/x-python",
   "name": "python",
   "nbconvert_exporter": "python",
   "pygments_lexer": "ipython3",
   "version": "3.10.4"
  }
 },
 "nbformat": 4,
 "nbformat_minor": 2
}
